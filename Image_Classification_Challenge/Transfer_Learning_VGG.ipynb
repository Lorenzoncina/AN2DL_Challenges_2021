{
  "nbformat": 4,
  "nbformat_minor": 0,
  "metadata": {
    "kernelspec": {
      "language": "python",
      "display_name": "Python 3",
      "name": "python3"
    },
    "language_info": {
      "name": "python",
      "version": "3.7.10",
      "mimetype": "text/x-python",
      "codemirror_mode": {
        "name": "ipython",
        "version": 3
      },
      "pygments_lexer": "ipython3",
      "nbconvert_exporter": "python",
      "file_extension": ".py"
    },
    "colab": {
      "name": "toytransferlearningvgg.ipynb",
      "provenance": []
    }
  },
  "cells": [
    {
      "cell_type": "code",
      "metadata": {
        "_uuid": "8f2839f25d086af736a60e9eeb907d3b93b6e0e5",
        "_cell_guid": "b1076dfc-b9ad-4769-8c92-a6c4dae69d19",
        "execution": {
          "iopub.status.busy": "2021-11-20T19:27:24.40994Z",
          "iopub.execute_input": "2021-11-20T19:27:24.411058Z",
          "iopub.status.idle": "2021-11-20T19:27:24.418468Z",
          "shell.execute_reply.started": "2021-11-20T19:27:24.411018Z",
          "shell.execute_reply": "2021-11-20T19:27:24.417158Z"
        },
        "trusted": true,
        "id": "bDNMR2SSTZ65"
      },
      "source": [
        "import os\n",
        "import numpy as np\n",
        "import random\n",
        "from PIL import Image\n",
        "import matplotlib.pyplot as plt"
      ],
      "execution_count": null,
      "outputs": []
    },
    {
      "cell_type": "code",
      "metadata": {
        "execution": {
          "iopub.status.busy": "2021-11-20T19:27:24.421741Z",
          "iopub.execute_input": "2021-11-20T19:27:24.422062Z",
          "iopub.status.idle": "2021-11-20T19:27:24.436549Z",
          "shell.execute_reply.started": "2021-11-20T19:27:24.422026Z",
          "shell.execute_reply": "2021-11-20T19:27:24.435812Z"
        },
        "trusted": true,
        "id": "-9nkTB_wTZ6_"
      },
      "source": [
        "import tensorflow as tf\n",
        "tfk = tf.keras\n",
        "print(tf.__version__)\n",
        "from tensorflow.keras import layers\n",
        "from tensorflow.keras import activations\n",
        "from tensorflow.keras import regularizers"
      ],
      "execution_count": null,
      "outputs": []
    },
    {
      "cell_type": "code",
      "metadata": {
        "execution": {
          "iopub.status.busy": "2021-11-20T19:27:28.211121Z",
          "iopub.execute_input": "2021-11-20T19:27:28.211875Z",
          "iopub.status.idle": "2021-11-20T19:27:28.216884Z",
          "shell.execute_reply.started": "2021-11-20T19:27:28.211838Z",
          "shell.execute_reply": "2021-11-20T19:27:28.215942Z"
        },
        "trusted": true,
        "id": "DxqaBti_TZ7A"
      },
      "source": [
        "# Random seed for reproducibility\n",
        "seed = 42\n",
        "\n",
        "random.seed(seed)\n",
        "os.environ['PYTHONHASHSEED'] = str(seed)\n",
        "np.random.seed(seed)\n",
        "tf.random.set_seed(seed)\n",
        "tf.compat.v1.set_random_seed(seed)"
      ],
      "execution_count": null,
      "outputs": []
    },
    {
      "cell_type": "code",
      "metadata": {
        "execution": {
          "iopub.status.busy": "2021-11-20T19:27:30.861298Z",
          "iopub.execute_input": "2021-11-20T19:27:30.861569Z",
          "iopub.status.idle": "2021-11-20T19:27:30.867508Z",
          "shell.execute_reply.started": "2021-11-20T19:27:30.861537Z",
          "shell.execute_reply": "2021-11-20T19:27:30.86646Z"
        },
        "trusted": true,
        "id": "Y7M49uZ0TZ7A"
      },
      "source": [
        "dataset_dir = '../input/leavestrainin/training'"
      ],
      "execution_count": null,
      "outputs": []
    },
    {
      "cell_type": "code",
      "metadata": {
        "execution": {
          "iopub.status.busy": "2021-11-20T19:27:33.821711Z",
          "iopub.execute_input": "2021-11-20T19:27:33.821991Z",
          "iopub.status.idle": "2021-11-20T19:27:35.81637Z",
          "shell.execute_reply.started": "2021-11-20T19:27:33.821961Z",
          "shell.execute_reply": "2021-11-20T19:27:35.815663Z"
        },
        "trusted": true,
        "id": "i9zoPNHeTZ7B"
      },
      "source": [
        "image_generator_train = tfk.preprocessing.image.ImageDataGenerator(rescale = 1/255 , \n",
        "                                                             rotation_range = 75,\n",
        "                                                             height_shift_range = 50,\n",
        "                                                             width_shift_range= 50,\n",
        "                                                             zoom_range = 0.3,\n",
        "                                                             horizontal_flip = True,\n",
        "                                                             vertical_flip=True,\n",
        "                                                             fill_mode='reflect',\n",
        "                                                             validation_split=0.1)\n",
        "\n",
        "train_data = image_generator_train.flow_from_directory(dataset_dir,\n",
        "                                                 target_size=(256,256),\n",
        "                                                 color_mode = 'rgb',\n",
        "                                                 classes=None,\n",
        "                                                 batch_size =64,\n",
        "                                                 shuffle = True,\n",
        "                                                 seed = seed,\n",
        "                                                 subset = \"training\")\n",
        "\n",
        "\n",
        "#For validation is necessary to create an ImageDataGenerator without data augmentation\n",
        "image_generator_validation = tfk.preprocessing.image.ImageDataGenerator(rescale = 1/255 , \n",
        "                                                             validation_split=0.1)\n",
        "\n",
        "\n",
        "validation_data = image_generator_validation.flow_from_directory(dataset_dir,\n",
        "                                                 target_size=(256,256),\n",
        "                                                 color_mode = 'rgb',\n",
        "                                                 classes=None,\n",
        "                                                 batch_size =64,\n",
        "                                                 shuffle = False,\n",
        "                                                 seed = seed,\n",
        "                                                 subset = \"validation\")"
      ],
      "execution_count": null,
      "outputs": []
    },
    {
      "cell_type": "code",
      "metadata": {
        "execution": {
          "iopub.status.busy": "2021-11-20T19:27:37.90218Z",
          "iopub.execute_input": "2021-11-20T19:27:37.902433Z",
          "iopub.status.idle": "2021-11-20T19:27:37.905912Z",
          "shell.execute_reply.started": "2021-11-20T19:27:37.902403Z",
          "shell.execute_reply": "2021-11-20T19:27:37.905225Z"
        },
        "trusted": true,
        "id": "-V3wgUiVTZ7C"
      },
      "source": [
        "input_shape = (256,256,3)"
      ],
      "execution_count": null,
      "outputs": []
    },
    {
      "cell_type": "code",
      "metadata": {
        "execution": {
          "iopub.status.busy": "2021-11-20T19:27:44.294199Z",
          "iopub.execute_input": "2021-11-20T19:27:44.295098Z",
          "iopub.status.idle": "2021-11-20T19:27:47.492774Z",
          "shell.execute_reply.started": "2021-11-20T19:27:44.29506Z",
          "shell.execute_reply": "2021-11-20T19:27:47.492043Z"
        },
        "trusted": true,
        "id": "B3Rtp6IITZ7D"
      },
      "source": [
        "supernet = tfk.applications.VGG16(\n",
        "    include_top = False,\n",
        "    weights = 'imagenet',\n",
        "    input_shape = input_shape\n",
        ")\n",
        "\n",
        "supernet.summary()"
      ],
      "execution_count": null,
      "outputs": []
    },
    {
      "cell_type": "code",
      "metadata": {
        "execution": {
          "iopub.status.busy": "2021-11-20T19:27:53.234233Z",
          "iopub.execute_input": "2021-11-20T19:27:53.234494Z",
          "iopub.status.idle": "2021-11-20T19:27:53.243578Z",
          "shell.execute_reply.started": "2021-11-20T19:27:53.234465Z",
          "shell.execute_reply": "2021-11-20T19:27:53.242864Z"
        },
        "trusted": true,
        "id": "t3hThjFfTZ7E"
      },
      "source": [
        "#put false to do transfer elarning, put true to do fine tuning\n",
        "supernet.trainable = False\n",
        "\n",
        "def create_model(input_shape):\n",
        "  model = tfk.Sequential()\n",
        "  model.add(supernet)\n",
        "  model.add(tfk.layers.GlobalMaxPooling2D())\n",
        "  model.add(tfk.layers.Dense(\n",
        "      units = 512,\n",
        "      activation = \"relu\",\n",
        "      kernel_initializer=tfk.initializers.GlorotUniform(seed)\n",
        "  ))\n",
        "  model.add(tfk.layers.Dropout(0.5,seed=seed))\n",
        "  #output layer\n",
        "  model.add(tfk.layers.Dense(\n",
        "      units = 14,\n",
        "      activation = \"softmax\",\n",
        "      kernel_initializer=tfk.initializers.GlorotUniform(seed)\n",
        "  ))\n",
        "\n",
        "  #compile model\n",
        "  model.compile(loss=tfk.losses.CategoricalCrossentropy() ,\n",
        "               optimizer = tfk.optimizers.Adam(),\n",
        "               metrics='accuracy' )\n",
        "\n",
        "  return model"
      ],
      "execution_count": null,
      "outputs": []
    },
    {
      "cell_type": "code",
      "metadata": {
        "execution": {
          "iopub.status.busy": "2021-11-20T19:28:02.47196Z",
          "iopub.execute_input": "2021-11-20T19:28:02.472231Z",
          "iopub.status.idle": "2021-11-20T19:28:02.478904Z",
          "shell.execute_reply.started": "2021-11-20T19:28:02.472202Z",
          "shell.execute_reply": "2021-11-20T19:28:02.477898Z"
        },
        "trusted": true,
        "id": "VlX5xRywTZ7H"
      },
      "source": [
        "#callbacks (earlystopping)\n",
        "callbacks = []\n",
        "callbacks.append(tf.keras.callbacks.EarlyStopping(monitor ='val_loss', patience=5, restore_best_weights=True))"
      ],
      "execution_count": null,
      "outputs": []
    },
    {
      "cell_type": "code",
      "metadata": {
        "execution": {
          "iopub.status.busy": "2021-11-20T19:28:12.842167Z",
          "iopub.execute_input": "2021-11-20T19:28:12.842705Z",
          "iopub.status.idle": "2021-11-20T19:28:12.936139Z",
          "shell.execute_reply.started": "2021-11-20T19:28:12.84265Z",
          "shell.execute_reply": "2021-11-20T19:28:12.935345Z"
        },
        "trusted": true,
        "id": "W0ooIVIWTZ7I"
      },
      "source": [
        "#build the model\n",
        "cnn_model = create_model(input_shape)\n",
        "cnn_model.summary()"
      ],
      "execution_count": null,
      "outputs": []
    },
    {
      "cell_type": "code",
      "metadata": {
        "execution": {
          "iopub.status.busy": "2021-11-20T19:28:19.701794Z",
          "iopub.execute_input": "2021-11-20T19:28:19.702318Z",
          "iopub.status.idle": "2021-11-20T22:24:09.413042Z",
          "shell.execute_reply.started": "2021-11-20T19:28:19.70228Z",
          "shell.execute_reply": "2021-11-20T22:24:09.412324Z"
        },
        "trusted": true,
        "id": "ozp0Y8myTZ7J"
      },
      "source": [
        "#Train the model\n",
        "history = cnn_model.fit(x = train_data,\n",
        "                        validation_data= validation_data,\n",
        "                        epochs = 100,\n",
        "                        callbacks = callbacks ).history"
      ],
      "execution_count": null,
      "outputs": []
    },
    {
      "cell_type": "code",
      "metadata": {
        "execution": {
          "iopub.status.busy": "2021-11-20T22:24:53.232478Z",
          "iopub.execute_input": "2021-11-20T22:24:53.23276Z",
          "iopub.status.idle": "2021-11-20T22:24:56.205673Z",
          "shell.execute_reply.started": "2021-11-20T22:24:53.232729Z",
          "shell.execute_reply": "2021-11-20T22:24:56.20495Z"
        },
        "trusted": true,
        "id": "1vvp9LCfTZ7J"
      },
      "source": [
        "#save the model \n",
        "cnn_model.save(\"./CNN_TL_GAP_model\")"
      ],
      "execution_count": null,
      "outputs": []
    },
    {
      "cell_type": "code",
      "metadata": {
        "execution": {
          "iopub.status.busy": "2021-11-20T22:25:57.553547Z",
          "iopub.execute_input": "2021-11-20T22:25:57.55433Z",
          "iopub.status.idle": "2021-11-20T22:26:01.50378Z",
          "shell.execute_reply.started": "2021-11-20T22:25:57.554288Z",
          "shell.execute_reply": "2021-11-20T22:26:01.502986Z"
        },
        "trusted": true,
        "id": "2ZzJ5VyETZ7K"
      },
      "source": [
        "#zip the folder in order to be able to dowload it\n",
        "!zip -r file3.zip \"./CNN_TL_GAP_model\""
      ],
      "execution_count": null,
      "outputs": []
    }
  ]
}